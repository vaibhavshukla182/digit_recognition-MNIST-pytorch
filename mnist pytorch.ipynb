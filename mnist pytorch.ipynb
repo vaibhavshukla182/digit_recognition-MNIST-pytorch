{
 "cells": [
  {
   "cell_type": "code",
   "execution_count": 27,
   "metadata": {},
   "outputs": [
    {
     "name": "stdout",
     "output_type": "stream",
     "text": [
      "==>>> total trainning batch number: 600\n",
      "==>>> total testing batch number: 100\n"
     ]
    }
   ],
   "source": [
    "import os\n",
    "import torch\n",
    "import torch.nn as nn\n",
    "from torch.autograd import Variable\n",
    "import torchvision.datasets as dset\n",
    "import torchvision.transforms as transforms\n",
    "import torch.nn.functional as F\n",
    "import torch.optim as optim\n",
    "## load mnist dataset\n",
    "\n",
    "root = './data'\n",
    "if not os.path.exists(root):\n",
    "    os.mkdir(root)\n",
    "    \n",
    "trans = transforms.Compose([transforms.ToTensor(), transforms.Normalize((0.5,), (1.0,))])\n",
    "# if not exist, download mnist dataset\n",
    "train_set = dset.MNIST(root=root, train=True, transform=trans, download=True)\n",
    "test_set = dset.MNIST(root=root, train=False, transform=trans, download=True)\n",
    "\n",
    "batch_size = 100\n",
    "\n",
    "train_loader = torch.utils.data.DataLoader(\n",
    "                 dataset=train_set,\n",
    "                 batch_size=batch_size,\n",
    "                 shuffle=True)\n",
    "test_loader = torch.utils.data.DataLoader(\n",
    "                dataset=test_set,\n",
    "                batch_size=batch_size,\n",
    "                shuffle=False)\n",
    "\n",
    "print ('==>>> total trainning batch number: {}'.format(len(train_loader)))\n",
    "print ('==>>> total testing batch number: {}'.format(len(test_loader)))"
   ]
  },
  {
   "cell_type": "code",
   "execution_count": 28,
   "metadata": {},
   "outputs": [
    {
     "data": {
      "text/plain": [
       "<torch.utils.data.dataloader.DataLoader at 0x118883d68>"
      ]
     },
     "execution_count": 28,
     "metadata": {},
     "output_type": "execute_result"
    }
   ],
   "source": [
    "train_loader"
   ]
  },
  {
   "cell_type": "code",
   "execution_count": 29,
   "metadata": {},
   "outputs": [],
   "source": [
    "class LeNet(nn.Module):\n",
    "    def __init__(self):\n",
    "        super(LeNet, self).__init__()\n",
    "        self.conv1 = nn.Conv2d(1, 20, 5, 1)\n",
    "        self.conv2 = nn.Conv2d(20, 50, 5, 1)\n",
    "        self.fc1 = nn.Linear(4*4*50, 500)\n",
    "        self.fc2 = nn.Linear(500, 10)\n",
    "\n",
    "    def forward(self, x):\n",
    "        x = F.relu(self.conv1(x))\n",
    "        x = F.max_pool2d(x, 2, 2)\n",
    "        x = F.relu(self.conv2(x))\n",
    "        x = F.max_pool2d(x, 2, 2)\n",
    "        x = x.view(-1, 4*4*50)\n",
    "        x = F.relu(self.fc1(x))\n",
    "        x = self.fc2(x)\n",
    "        return x\n",
    "    \n",
    "    def name(self):\n",
    "        return \"LeNet\"\n",
    "\n",
    "## training\n",
    "model = LeNet()"
   ]
  },
  {
   "cell_type": "code",
   "execution_count": 30,
   "metadata": {},
   "outputs": [],
   "source": [
    "optimizer = optim.SGD(model.parameters(), lr=0.01, momentum=0.9)\n",
    "\n",
    "criterion = nn.CrossEntropyLoss()"
   ]
  },
  {
   "cell_type": "code",
   "execution_count": 31,
   "metadata": {},
   "outputs": [
    {
     "name": "stderr",
     "output_type": "stream",
     "text": [
      "/Users/apple/anaconda3/envs/ztdl/lib/python3.5/site-packages/ipykernel_launcher.py:11: UserWarning: invalid index of a 0-dim tensor. This will be an error in PyTorch 0.5. Use tensor.item() to convert a 0-dim tensor to a Python number\n",
      "  # This is added back by InteractiveShellApp.init_path()\n"
     ]
    },
    {
     "name": "stdout",
     "output_type": "stream",
     "text": [
      "==>>> epoch: 0, batch index: 100, train loss: 0.572324\n",
      "==>>> epoch: 0, batch index: 200, train loss: 0.261136\n",
      "==>>> epoch: 0, batch index: 300, train loss: 0.175545\n",
      "==>>> epoch: 0, batch index: 400, train loss: 0.153912\n",
      "==>>> epoch: 0, batch index: 500, train loss: 0.098054\n",
      "==>>> epoch: 0, batch index: 600, train loss: 0.105519\n"
     ]
    },
    {
     "name": "stderr",
     "output_type": "stream",
     "text": [
      "/Users/apple/anaconda3/envs/ztdl/lib/python3.5/site-packages/ipykernel_launcher.py:22: UserWarning: volatile was removed and now has no effect. Use `with torch.no_grad():` instead.\n",
      "/Users/apple/anaconda3/envs/ztdl/lib/python3.5/site-packages/ipykernel_launcher.py:29: UserWarning: invalid index of a 0-dim tensor. This will be an error in PyTorch 0.5. Use tensor.item() to convert a 0-dim tensor to a Python number\n"
     ]
    },
    {
     "name": "stdout",
     "output_type": "stream",
     "text": [
      "==>>> epoch: 0, batch index: 100, test loss: 0.061113, acc: 0.000\n",
      "==>>> epoch: 1, batch index: 100, train loss: 0.091491\n",
      "==>>> epoch: 1, batch index: 200, train loss: 0.079549\n",
      "==>>> epoch: 1, batch index: 300, train loss: 0.067319\n",
      "==>>> epoch: 1, batch index: 400, train loss: 0.064144\n",
      "==>>> epoch: 1, batch index: 500, train loss: 0.074791\n",
      "==>>> epoch: 1, batch index: 600, train loss: 0.054066\n",
      "==>>> epoch: 1, batch index: 100, test loss: 0.052294, acc: 0.000\n",
      "==>>> epoch: 2, batch index: 100, train loss: 0.057003\n",
      "==>>> epoch: 2, batch index: 200, train loss: 0.045149\n",
      "==>>> epoch: 2, batch index: 300, train loss: 0.043695\n",
      "==>>> epoch: 2, batch index: 400, train loss: 0.050808\n",
      "==>>> epoch: 2, batch index: 500, train loss: 0.039839\n",
      "==>>> epoch: 2, batch index: 600, train loss: 0.042638\n",
      "==>>> epoch: 2, batch index: 100, test loss: 0.033482, acc: 0.000\n",
      "==>>> epoch: 3, batch index: 100, train loss: 0.036857\n",
      "==>>> epoch: 3, batch index: 200, train loss: 0.039556\n",
      "==>>> epoch: 3, batch index: 300, train loss: 0.052570\n",
      "==>>> epoch: 3, batch index: 400, train loss: 0.026891\n",
      "==>>> epoch: 3, batch index: 500, train loss: 0.042442\n",
      "==>>> epoch: 3, batch index: 600, train loss: 0.029682\n",
      "==>>> epoch: 3, batch index: 100, test loss: 0.026546, acc: 0.000\n",
      "==>>> epoch: 4, batch index: 100, train loss: 0.026955\n",
      "==>>> epoch: 4, batch index: 200, train loss: 0.028494\n",
      "==>>> epoch: 4, batch index: 300, train loss: 0.019619\n",
      "==>>> epoch: 4, batch index: 400, train loss: 0.029931\n",
      "==>>> epoch: 4, batch index: 500, train loss: 0.023418\n",
      "==>>> epoch: 4, batch index: 600, train loss: 0.029485\n",
      "==>>> epoch: 4, batch index: 100, test loss: 0.041556, acc: 0.000\n",
      "==>>> epoch: 5, batch index: 100, train loss: 0.030319\n",
      "==>>> epoch: 5, batch index: 200, train loss: 0.023012\n",
      "==>>> epoch: 5, batch index: 300, train loss: 0.028989\n",
      "==>>> epoch: 5, batch index: 400, train loss: 0.040818\n",
      "==>>> epoch: 5, batch index: 500, train loss: 0.024940\n",
      "==>>> epoch: 5, batch index: 600, train loss: 0.027950\n",
      "==>>> epoch: 5, batch index: 100, test loss: 0.018662, acc: 0.000\n",
      "==>>> epoch: 6, batch index: 100, train loss: 0.012409\n",
      "==>>> epoch: 6, batch index: 200, train loss: 0.025877\n",
      "==>>> epoch: 6, batch index: 300, train loss: 0.019521\n",
      "==>>> epoch: 6, batch index: 400, train loss: 0.028118\n",
      "==>>> epoch: 6, batch index: 500, train loss: 0.021038\n",
      "==>>> epoch: 6, batch index: 600, train loss: 0.035239\n",
      "==>>> epoch: 6, batch index: 100, test loss: 0.018254, acc: 0.000\n",
      "==>>> epoch: 7, batch index: 100, train loss: 0.013576\n",
      "==>>> epoch: 7, batch index: 200, train loss: 0.023692\n",
      "==>>> epoch: 7, batch index: 300, train loss: 0.022923\n",
      "==>>> epoch: 7, batch index: 400, train loss: 0.011840\n",
      "==>>> epoch: 7, batch index: 500, train loss: 0.015399\n",
      "==>>> epoch: 7, batch index: 600, train loss: 0.018431\n",
      "==>>> epoch: 7, batch index: 100, test loss: 0.017737, acc: 0.000\n",
      "==>>> epoch: 8, batch index: 100, train loss: 0.011633\n",
      "==>>> epoch: 8, batch index: 200, train loss: 0.017026\n",
      "==>>> epoch: 8, batch index: 300, train loss: 0.013940\n",
      "==>>> epoch: 8, batch index: 400, train loss: 0.027955\n",
      "==>>> epoch: 8, batch index: 500, train loss: 0.012286\n",
      "==>>> epoch: 8, batch index: 600, train loss: 0.013091\n",
      "==>>> epoch: 8, batch index: 100, test loss: 0.014305, acc: 0.000\n",
      "==>>> epoch: 9, batch index: 100, train loss: 0.005997\n",
      "==>>> epoch: 9, batch index: 200, train loss: 0.016721\n",
      "==>>> epoch: 9, batch index: 300, train loss: 0.011620\n",
      "==>>> epoch: 9, batch index: 400, train loss: 0.020020\n",
      "==>>> epoch: 9, batch index: 500, train loss: 0.013579\n",
      "==>>> epoch: 9, batch index: 600, train loss: 0.015025\n",
      "==>>> epoch: 9, batch index: 100, test loss: 0.016190, acc: 0.000\n"
     ]
    }
   ],
   "source": [
    "for epoch in range(10):\n",
    "    # trainning\n",
    "    ave_loss = 0\n",
    "    for batch_idx, (x, target) in enumerate(train_loader):\n",
    "        optimizer.zero_grad()\n",
    "        if use_cuda:\n",
    "            x, target = x.cuda(), target.cuda()\n",
    "        x, target = Variable(x), Variable(target)\n",
    "        out = model(x)\n",
    "        loss = criterion(out, target)\n",
    "        ave_loss = ave_loss * 0.9 + loss.data[0] * 0.1\n",
    "        loss.backward()\n",
    "        optimizer.step()\n",
    "        if (batch_idx+1) % 100 == 0 or (batch_idx+1) == len(train_loader):\n",
    "            print ('==>>> epoch: {}, batch index: {}, train loss: {:.6f}'.format(epoch, batch_idx+1, ave_loss))\n",
    "    # testing\n",
    "    correct_cnt, ave_loss = 0, 0\n",
    "    total_cnt = 0\n",
    "    for batch_idx, (x, target) in enumerate(test_loader):\n",
    "        if use_cuda:\n",
    "            x, target = x.cuda(), target.cuda()\n",
    "        x, target = Variable(x, volatile=True), Variable(target, volatile=True)\n",
    "        out = model(x)\n",
    "        loss = criterion(out, target)\n",
    "        _, pred_label = torch.max(out.data, 1)\n",
    "        total_cnt += x.data.size()[0]\n",
    "        correct_cnt += (pred_label == target.data).sum()\n",
    "        # smooth average\n",
    "        ave_loss = ave_loss * 0.9 + loss.data[0] * 0.1\n",
    "        \n",
    "        if(batch_idx+1) % 100 == 0 or (batch_idx+1) == len(test_loader):\n",
    "            print ('==>>> epoch: {}, batch index: {}, test loss: {:.6f}, acc: {:.3f}'.format(epoch, batch_idx+1, ave_loss, correct_cnt * 1.0 / total_cnt))\n",
    "\n",
    "torch.save(model.state_dict(), model.name())\n"
   ]
  },
  {
   "cell_type": "code",
   "execution_count": null,
   "metadata": {},
   "outputs": [],
   "source": []
  }
 ],
 "metadata": {
  "kernelspec": {
   "display_name": "Python 3",
   "language": "python",
   "name": "python3"
  },
  "language_info": {
   "codemirror_mode": {
    "name": "ipython",
    "version": 3
   },
   "file_extension": ".py",
   "mimetype": "text/x-python",
   "name": "python",
   "nbconvert_exporter": "python",
   "pygments_lexer": "ipython3",
   "version": "3.5.5"
  }
 },
 "nbformat": 4,
 "nbformat_minor": 2
}
